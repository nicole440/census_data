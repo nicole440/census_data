{
 "cells": [
  {
   "cell_type": "code",
   "execution_count": null,
   "metadata": {},
   "outputs": [],
   "source": [
    "import pandas as pd\n",
    "\n",
    "data = pd.read_csv('county-data.csv')\n",
    "county_df = pd.DataFrame(data)\n",
    "\n",
    "data = pd.read_csv('municipal-data.csv')\n",
    "muni_df = pd.DataFrame(data)\n"
   ]
  },
  {
   "cell_type": "code",
   "execution_count": null,
   "metadata": {},
   "outputs": [],
   "source": [
    "columns_to_drop = ['RANK', 'SUMLEV', 'PLACE', 'COUSUB', 'CONCIT', 'PRIMGEO_FLAG', 'FUNCSTAT', 'ESTIMATESBASE2020', 'POPESTIMATE2020', 'POPESTIMATE2021', 'POPESTIMATE2022', 'Type', 'UID', 'Population Sum', '% of Population', 'Total']\n",
    "county_df = county_df.drop(columns=columns_to_drop)\n",
    "\n",
    "print(county_df)"
   ]
  },
  {
   "cell_type": "code",
   "execution_count": null,
   "metadata": {},
   "outputs": [],
   "source": [
    "columns_to_drop = ['RANK', 'Population Sum', '% of Population']\n",
    "\n",
    "muni_df = muni_df.drop(columns=columns_to_drop)\\\n",
    "                .rename(columns={'NAME': 'MUNI NAME'})\n",
    "\n",
    "print(muni_df)"
   ]
  },
  {
   "cell_type": "markdown",
   "metadata": {},
   "source": [
    "### Merge with County List"
   ]
  },
  {
   "cell_type": "code",
   "execution_count": null,
   "metadata": {},
   "outputs": [],
   "source": [
    "merged_data = pd.merge(muni_df, county_df, how='left', on=['STATE', 'COUNTY'])\n",
    "\n",
    "merged_data['COUNTY NAME'] = merged_data['NAME']\n",
    "\n",
    "print(merged_data)\n"
   ]
  },
  {
   "cell_type": "code",
   "execution_count": null,
   "metadata": {},
   "outputs": [],
   "source": [
    "columns_to_drop = ['STNAME_y', 'IS COUNTY', 'STATESTATE', 'NAME', 'COUNTY DISTINCTION']\n",
    "\n",
    "merged_data = merged_data.drop(columns=columns_to_drop)\\\n",
    "                        .rename(columns={'STNAME_x': 'STNAME'})\n",
    "\n",
    "print(muni_df)"
   ]
  },
  {
   "cell_type": "code",
   "execution_count": null,
   "metadata": {},
   "outputs": [],
   "source": [
    "types_to_drop = ['government', 'Region', 'Parish', 'UT', 'Bow', 'CDP']\n",
    "merged_data = merged_data[~merged_data['TYPE'].isin(types_to_drop)]\n"
   ]
  },
  {
   "cell_type": "code",
   "execution_count": null,
   "metadata": {},
   "outputs": [],
   "source": [
    "merged_data.drop_duplicates(subset='UID Full', keep=False, inplace=True)"
   ]
  },
  {
   "cell_type": "code",
   "execution_count": null,
   "metadata": {},
   "outputs": [],
   "source": [
    "merged_data.to_csv('updated-municipalities.csv', index=False)"
   ]
  },
  {
   "cell_type": "markdown",
   "metadata": {},
   "source": [
    "### Merge with Census Place FIPS Code List"
   ]
  },
  {
   "cell_type": "code",
   "execution_count": null,
   "metadata": {},
   "outputs": [],
   "source": [
    "census_df = pd.read_csv('census-place-list.csv', sep='|')\n",
    "\n",
    "census_df = census_df.astype(str)\n",
    "\n",
    "# Replace pipe delimiters with commas\n",
    "census_df = census_df.applymap(lambda x: x.replace('|', ','))\n",
    "\n",
    "# Write the modified data back to a CSV file\n",
    "census_df.to_csv('census-place-reformatted.csv', index=False)\n",
    "census_df = pd.read_csv('census-place-reformatted.csv')"
   ]
  },
  {
   "cell_type": "code",
   "execution_count": null,
   "metadata": {},
   "outputs": [],
   "source": [
    "columns_to_drop = ['STATE', 'PLACENAME', 'TYPE', 'CLASSFP', 'FUNCSTAT', 'PLACENS']\n",
    "\n",
    "census_df = census_df.drop(columns=columns_to_drop)\\\n",
    "                    .rename(columns={'PLACEFP':'PLACE', 'STATEFP': 'STATE'})\n",
    "\n",
    "print(census_df)"
   ]
  },
  {
   "cell_type": "code",
   "execution_count": null,
   "metadata": {},
   "outputs": [],
   "source": [
    "muni_data2 = pd.read_csv('updated-municipalities.csv')\n",
    "muni_data2.drop_duplicates(subset='UID Full', keep=False, inplace=True)\n",
    "\n",
    "merged_data = pd.merge(muni_data2, census_df, how='left', on=['STATE', 'PLACE'])\n",
    "\n",
    "merged_data.rename(columns={'COUNTIES': 'COUNTY NAME'}, inplace=True)\n",
    "\n",
    "print(merged_data)"
   ]
  },
  {
   "cell_type": "code",
   "execution_count": null,
   "metadata": {},
   "outputs": [],
   "source": [
    "# merged_data.sort_values('IS MULTIPLE', inplace=True, ascending=False)\n",
    "\n",
    "merged_data.sort_values('POPESTIMATE2022', inplace=True, ascending=False)\n",
    "\n",
    "merged_data.to_csv('updated-municipalities2.csv', index=False)"
   ]
  }
 ],
 "metadata": {
  "kernelspec": {
   "display_name": "Python 3",
   "language": "python",
   "name": "python3"
  },
  "language_info": {
   "codemirror_mode": {
    "name": "ipython",
    "version": 3
   },
   "file_extension": ".py",
   "mimetype": "text/x-python",
   "name": "python",
   "nbconvert_exporter": "python",
   "pygments_lexer": "ipython3",
   "version": "3.11.8"
  },
  "orig_nbformat": 4
 },
 "nbformat": 4,
 "nbformat_minor": 2
}
